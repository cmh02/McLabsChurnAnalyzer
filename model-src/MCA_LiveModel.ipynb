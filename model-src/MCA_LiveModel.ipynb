{
 "cells": [
  {
   "cell_type": "markdown",
   "id": "c93104ba",
   "metadata": {},
   "source": [
    "# MCLabs Churn Analyzer - Live Model\n",
    "\n",
    "This Jupyter Notebook will allow for interacting with the current live model for the purposes of player churn analysis and predictions."
   ]
  }
 ],
 "metadata": {
  "language_info": {
   "name": "python"
  }
 },
 "nbformat": 4,
 "nbformat_minor": 5
}
