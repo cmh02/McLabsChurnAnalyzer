{
 "cells": [
  {
   "cell_type": "markdown",
   "id": "c93104ba",
   "metadata": {},
   "source": [
    "# MCLabs Churn Analyzer - Live Model\n",
    "\n",
    "This Jupyter Notebook will allow for interacting with the current live model for the purposes of player churn analysis and predictions."
   ]
  },
  {
   "cell_type": "code",
   "execution_count": 1,
   "id": "1fd53a9e",
   "metadata": {},
   "outputs": [],
   "source": [
    "'''\n",
    "MODULE/PACKAGE IMPORTS\n",
    "'''\n",
    "\n",
    "# System\n",
    "import os\n",
    "import re\n",
    "from glob import glob\n",
    "from dotenv import load_dotenv\n",
    "from datetime import datetime, timedelta\n",
    "\n",
    "# Data\n",
    "import numpy as np\n",
    "import pandas as pd\n",
    "from xgboost import XGBClassifier\n",
    "from sklearn.pipeline import Pipeline\n",
    "from sklearn.compose import ColumnTransformer\n",
    "from sklearn.linear_model import LogisticRegression\n",
    "from sklearn.model_selection import GridSearchCV, train_test_split\n",
    "from sklearn.preprocessing import OneHotEncoder, StandardScaler\n",
    "from sklearn.metrics import accuracy_score, confusion_matrix, classification_report\n",
    "\n",
    "# Pipelining\n",
    "import joblib\n",
    "\n",
    "# Output/Display\n",
    "from tqdm import tqdm"
   ]
  },
  {
   "cell_type": "code",
   "execution_count": 2,
   "id": "27a42ad8",
   "metadata": {},
   "outputs": [],
   "source": [
    "'''\n",
    "PIPELINE LOADING\n",
    "\n",
    "This loads the entire machine learning pipeline from a file.\n",
    "'''\n",
    "\n",
    "# Load the entire LogReg pipeline\n",
    "MCA_Pipeline_LogReg = joblib.load(\"../model-internals/MCA_Pipeline_LogReg.pkl\")\n",
    "\n",
    "# Load the entire XGBoost pipeline\n",
    "MCA_Pipeline_GridSearch_XGB = joblib.load(\"../model-internals/MCA_Pipeline_GridSearch_XGB.pkl\")"
   ]
  }
 ],
 "metadata": {
  "kernelspec": {
   "display_name": ".venv",
   "language": "python",
   "name": "python3"
  },
  "language_info": {
   "codemirror_mode": {
    "name": "ipython",
    "version": 3
   },
   "file_extension": ".py",
   "mimetype": "text/x-python",
   "name": "python",
   "nbconvert_exporter": "python",
   "pygments_lexer": "ipython3",
   "version": "3.13.5"
  }
 },
 "nbformat": 4,
 "nbformat_minor": 5
}
