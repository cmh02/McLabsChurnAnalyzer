{
 "cells": [
  {
   "cell_type": "markdown",
   "id": "375d8291",
   "metadata": {},
   "source": [
    "# MCLabs Churn Analyzer - Data Preparation\n",
    "Author: @cmh02\n",
    "\n",
    "This Jupyter Notebook will be used for general data preparation for the model in three main steps:\n",
    "1) Anonymizing the data\n",
    "2) Cleaning the data\n",
    "3) Adding features and recognizing the target\n",
    "\n",
    "This is now accomplished via the mcalib McaDataPrepare package."
   ]
  },
  {
   "cell_type": "code",
   "execution_count": null,
   "id": "420f3f34",
   "metadata": {},
   "outputs": [
    {
     "name": "stdout",
     "output_type": "stream",
     "text": [
      "A New MCA Data Preparer has been created!\n",
      "-> Input Folder Path: ../data/gatheringoutput/\n",
      "-> Data Directory Path: ../data\n",
      "-> Output Mode: McaOutputMode.ALL\n",
      "-> Storage Mode: McaStorageMode.INSTANCE\n"
     ]
    },
    {
     "name": "stderr",
     "output_type": "stream",
     "text": [
      "Preparing Data Files: 100%|██████████| 1/1 [00:00<00:00,  4.91file/s]\n"
     ]
    }
   ],
   "source": [
    "# Import mcalib resources\n",
    "from mcalib import McaDataPrepare, McaOutputMode, McaStorageMode, McaHashMode\n",
    "\n",
    "# Create Data Prepare instance and run preparation steps on data\n",
    "DataPreparer = McaDataPrepare(inputFilePath=\"../data/gatheringoutput/1757051828.555\", autoPrepare=True, outputMode=McaOutputMode.FINAL, storageMode=McaStorageMode.INSTANCE, hashMode=McaHashMode.NONE)"
   ]
  },
  {
   "cell_type": "code",
   "execution_count": 23,
   "id": "3a89a646",
   "metadata": {},
   "outputs": [
    {
     "name": "stdout",
     "output_type": "stream",
     "text": [
      "                                             count            mean  \\\n",
      "balance                                  3155.0000     916036.5265   \n",
      "lw_rev_total                             3155.0000     225594.7759   \n",
      "lw_rev_phase                             3155.0000      77651.2425   \n",
      "leaderboard_position_chems_all           3155.0000        117.2808   \n",
      "leaderboard_position_chems_week          3155.0000          0.9458   \n",
      "leaderboard_position_police_all          3155.0000          0.7078   \n",
      "leaderboard_position_police_week         3155.0000          0.0010   \n",
      "chemrank                                 3155.0000          3.4900   \n",
      "policerank                               3155.0000          0.4276   \n",
      "donorrank                                3155.0000          0.3791   \n",
      "goldrank                                 3155.0000          0.0158   \n",
      "current_month_votes                      3155.0000          0.4282   \n",
      "plan_player_time_total_raw               3155.0000  115084827.3195   \n",
      "plan_player_time_month_raw               3155.0000   20950548.0216   \n",
      "plan_player_time_week_raw                3155.0000    4692965.5607   \n",
      "plan_player_time_day_raw                 3155.0000     632119.3125   \n",
      "plan_player_time_afk_raw                 3155.0000   72050467.2190   \n",
      "plan_player_latest_session_length_raw    3155.0000     806744.9842   \n",
      "plan_player_lastseen                     3155.0000    4651732.8558   \n",
      "plan_player_sessions_count               3155.0000        102.0244   \n",
      "plan_player_relativePlaytime_totalmonth  3155.0000         94.9496   \n",
      "plan_player_relativePlaytime_weekmonth   3155.0000          0.0625   \n",
      "plan_player_relativePlaytime_dayweek     3155.0000          0.0101   \n",
      "churn                                    3155.0000          0.8422   \n",
      "\n",
      "                                                    std         min  \\\n",
      "balance                                   15420454.4273      0.0000   \n",
      "lw_rev_total                               1835316.8063      0.0000   \n",
      "lw_rev_phase                                669104.0767      0.0000   \n",
      "leaderboard_position_chems_all                 231.8771      0.0000   \n",
      "leaderboard_position_chems_week                  6.9609      0.0000   \n",
      "leaderboard_position_police_all                  5.6253      0.0000   \n",
      "leaderboard_position_police_week                 0.0398      0.0000   \n",
      "chemrank                                        14.8045      0.0000   \n",
      "policerank                                       7.2176      0.0000   \n",
      "donorrank                                        1.1863      0.0000   \n",
      "goldrank                                         0.1249      0.0000   \n",
      "current_month_votes                              3.4498      0.0000   \n",
      "plan_player_time_total_raw               594986924.6562     10.0000   \n",
      "plan_player_time_month_raw               148701044.2204      0.0000   \n",
      "plan_player_time_week_raw                 40120413.3761      0.0000   \n",
      "plan_player_time_day_raw                   6284858.2069      0.0000   \n",
      "plan_player_time_afk_raw                 468184788.3757      0.0000   \n",
      "plan_player_latest_session_length_raw      3029028.3015      5.0000   \n",
      "plan_player_lastseen                       2766046.9613  86340.0000   \n",
      "plan_player_sessions_count                     476.5339      1.0000   \n",
      "plan_player_relativePlaytime_totalmonth       3508.5792      0.0000   \n",
      "plan_player_relativePlaytime_weekmonth           0.2290      0.0000   \n",
      "plan_player_relativePlaytime_dayweek             0.0840      0.0000   \n",
      "churn                                            0.3647      0.0000   \n",
      "\n",
      "                                                  25%           50%  \\\n",
      "balance                                        0.0000     2303.1300   \n",
      "lw_rev_total                                   0.0000        0.0000   \n",
      "lw_rev_phase                                   0.0000        0.0000   \n",
      "leaderboard_position_chems_all                 0.0000        0.0000   \n",
      "leaderboard_position_chems_week                0.0000        0.0000   \n",
      "leaderboard_position_police_all                0.0000        0.0000   \n",
      "leaderboard_position_police_week               0.0000        0.0000   \n",
      "chemrank                                       0.0000        0.0000   \n",
      "policerank                                     0.0000        0.0000   \n",
      "donorrank                                      0.0000        0.0000   \n",
      "goldrank                                       0.0000        0.0000   \n",
      "current_month_votes                            0.0000        0.0000   \n",
      "plan_player_time_total_raw                160015.5000   758545.0000   \n",
      "plan_player_time_month_raw                     0.0000        0.0000   \n",
      "plan_player_time_week_raw                      0.0000        0.0000   \n",
      "plan_player_time_day_raw                       0.0000        0.0000   \n",
      "plan_player_time_afk_raw                       0.0000        0.0000   \n",
      "plan_player_latest_session_length_raw      43978.5000   154337.0000   \n",
      "plan_player_lastseen                     2188268.0000  4706348.0000   \n",
      "plan_player_sessions_count                     1.0000        3.0000   \n",
      "plan_player_relativePlaytime_totalmonth        0.0000        0.0000   \n",
      "plan_player_relativePlaytime_weekmonth         0.0000        0.0000   \n",
      "plan_player_relativePlaytime_dayweek           0.0000        0.0000   \n",
      "churn                                          1.0000        1.0000   \n",
      "\n",
      "                                                  75%              max  \n",
      "balance                                    22312.9350   738528696.2100  \n",
      "lw_rev_total                                   0.0000    38100202.3660  \n",
      "lw_rev_phase                                   0.0000    13020966.4620  \n",
      "leaderboard_position_chems_all                69.5000         864.0000  \n",
      "leaderboard_position_chems_week                0.0000          79.0000  \n",
      "leaderboard_position_police_all                0.0000          67.0000  \n",
      "leaderboard_position_police_week               0.0000           2.0000  \n",
      "chemrank                                       2.0000         143.0000  \n",
      "policerank                                     0.0000         143.0000  \n",
      "donorrank                                      0.0000           5.0000  \n",
      "goldrank                                       0.0000           1.0000  \n",
      "current_month_votes                            0.0000         103.0000  \n",
      "plan_player_time_total_raw               5963411.0000  8436728592.0000  \n",
      "plan_player_time_month_raw                 37442.0000  2520487829.0000  \n",
      "plan_player_time_week_raw                      0.0000   603655050.0000  \n",
      "plan_player_time_day_raw                       0.0000   111762143.0000  \n",
      "plan_player_time_afk_raw                  442670.0000  7660259923.0000  \n",
      "plan_player_latest_session_length_raw     508059.0000    63625216.0000  \n",
      "plan_player_lastseen                     7160378.0000     9015428.0000  \n",
      "plan_player_sessions_count                    10.0000        7028.0000  \n",
      "plan_player_relativePlaytime_totalmonth        1.0000      194584.7247  \n",
      "plan_player_relativePlaytime_weekmonth         0.0000           1.0000  \n",
      "plan_player_relativePlaytime_dayweek           0.0000           1.0000  \n",
      "churn                                          1.0000           1.0000  \n"
     ]
    }
   ],
   "source": [
    "# Print Analysis of Dataframe\n",
    "DataPreparer.analyzeData(1757051828.555)"
   ]
  }
 ],
 "metadata": {
  "kernelspec": {
   "display_name": ".venv",
   "language": "python",
   "name": "python3"
  },
  "language_info": {
   "codemirror_mode": {
    "name": "ipython",
    "version": 3
   },
   "file_extension": ".py",
   "mimetype": "text/x-python",
   "name": "python",
   "nbconvert_exporter": "python",
   "pygments_lexer": "ipython3",
   "version": "3.13.5"
  }
 },
 "nbformat": 4,
 "nbformat_minor": 5
}
