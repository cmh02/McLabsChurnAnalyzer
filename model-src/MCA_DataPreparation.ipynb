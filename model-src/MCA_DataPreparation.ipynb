{
 "cells": [
  {
   "cell_type": "markdown",
   "id": "375d8291",
   "metadata": {},
   "source": [
    "# MCLabs Churn Analyzer - Data Preparation\n",
    "\n",
    "This Jupyter Notebook will be used for general data preparation for the model. As all of our data is coming from separate sources, we first need to combine our data into a singular source. We then will record some values so that we can later derive more features. We will then pre-process the data to address a variety of concerns."
   ]
  },
  {
   "cell_type": "code",
   "execution_count": 3,
   "id": "2a10271b",
   "metadata": {},
   "outputs": [],
   "source": [
    "'''\n",
    "MODULE/PACKAGE IMPORTS\n",
    "'''\n",
    "\n",
    "# System\n",
    "import os\n",
    "from glob import glob\n",
    "\n",
    "# Data\n",
    "import numpy as np\n",
    "import pandas as pd"
   ]
  },
  {
   "cell_type": "code",
   "execution_count": 4,
   "id": "04ebeb40",
   "metadata": {},
   "outputs": [],
   "source": [
    "'''\n",
    "DATA ANONYMIZATION\n",
    "\n",
    "To protect player privacy, the first portion of our data preparation is anonymizing our data. \n",
    "We will simply take the datafiles in gatheringoutput and replace the UUID field for each entry\n",
    "with a placeholder name to present that player.\n",
    "'''\n",
    "\n",
    "# Define input and output folder paths\n",
    "folderPath_gatheringoutput = \"../data/gatheringoutput/\"\n",
    "folderPath_anonoutput = \"../data/anonoutput/\"\n",
    "\n",
    "# Create output folder if it doesn't exist\n",
    "if not os.path.exists(folderPath_anonoutput):\n",
    "    os.makedirs(folderPath_anonoutput, exist_ok=True)\n",
    "\n",
    "# Get the names of all gatheringoutput files using glob\n",
    "gatheringOutputFiles = glob(os.path.join(folderPath_gatheringoutput, \"*.csv\"))\n",
    "\n",
    "# Iterate through the files\n",
    "for filePath in gatheringOutputFiles:\n",
    "    # Read the CSV file\n",
    "    df = pd.read_csv(filePath)\n",
    "\n",
    "    # Anonymize the UUID column (UUID -> PlayerXXXXX)\n",
    "    df['UUID'] = [f'Player{str(i+1).zfill(5)}' for i in range(len(df))]\n",
    "\n",
    "    # Save the anonymized data to a new CSV file\n",
    "    outputFilePath = os.path.join(folderPath_anonoutput, os.path.basename(filePath))\n",
    "    df.to_csv(outputFilePath, index=False)\n"
   ]
  }
 ],
 "metadata": {
  "kernelspec": {
   "display_name": ".venv",
   "language": "python",
   "name": "python3"
  },
  "language_info": {
   "codemirror_mode": {
    "name": "ipython",
    "version": 3
   },
   "file_extension": ".py",
   "mimetype": "text/x-python",
   "name": "python",
   "nbconvert_exporter": "python",
   "pygments_lexer": "ipython3",
   "version": "3.13.5"
  }
 },
 "nbformat": 4,
 "nbformat_minor": 5
}
