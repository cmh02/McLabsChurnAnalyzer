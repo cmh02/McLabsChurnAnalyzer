{
 "cells": [
  {
   "cell_type": "markdown",
   "id": "281761f9",
   "metadata": {},
   "source": [
    "# MCLabs Churn Analyzer - Model Creation\n",
    "\n",
    "This Jupyter Notebook will create a ML model, train it on our training data, then offer a simple test analysis using test data."
   ]
  },
  {
   "cell_type": "code",
   "execution_count": 14,
   "id": "c91861cb",
   "metadata": {},
   "outputs": [],
   "source": [
    "'''\n",
    "MODULE/PACKAGE IMPORTS\n",
    "'''\n",
    "\n",
    "# System\n",
    "import os\n",
    "import re\n",
    "from glob import glob\n",
    "from dotenv import load_dotenv\n",
    "from datetime import datetime, timedelta\n",
    "\n",
    "# Data\n",
    "import numpy as np\n",
    "import pandas as pd\n",
    "from sklearn.pipeline import Pipeline\n",
    "from sklearn.compose import ColumnTransformer\n",
    "from sklearn.linear_model import LogisticRegression\n",
    "from sklearn.model_selection import train_test_split\n",
    "from sklearn.preprocessing import OneHotEncoder, StandardScaler\n",
    "from sklearn.metrics import accuracy_score, confusion_matrix, classification_report\n",
    "\n",
    "# Pipelining\n",
    "import joblib\n",
    "\n",
    "# Output/Display\n",
    "from tqdm import tqdm"
   ]
  },
  {
   "cell_type": "code",
   "execution_count": null,
   "id": "77fe80d6",
   "metadata": {},
   "outputs": [
    {
     "name": "stdout",
     "output_type": "stream",
     "text": [
      "Accuracy: 0.8802698145025295\n",
      "Confusion Matrix:\n",
      " [[ 40  69]\n",
      " [  2 482]]\n",
      "Classification Report:\n",
      "               precision    recall  f1-score   support\n",
      "\n",
      "           0       0.95      0.37      0.53       109\n",
      "           1       0.87      1.00      0.93       484\n",
      "\n",
      "    accuracy                           0.88       593\n",
      "   macro avg       0.91      0.68      0.73       593\n",
      "weighted avg       0.89      0.88      0.86       593\n",
      "\n"
     ]
    }
   ],
   "source": [
    "'''\n",
    "PIPELINE CREATION\n",
    "\n",
    "This section will create a pipeline for loading the data, splitting the data, scaling the data, and training the model.\n",
    "'''\n",
    "\n",
    "# Load the data\n",
    "modelInputDataframe = pd.read_csv(\"../data/targetted/public/1756184400/targetted.csv\")\n",
    "\n",
    "# Separate features from target\n",
    "MCA_Features = modelInputDataframe.drop(columns=[\"churn\"])\n",
    "MCA_Target = modelInputDataframe[\"churn\"]\n",
    "\n",
    "# Split the data\n",
    "MCA_Features_Train, MCA_Features_Test, MCA_Target_Train, MCA_Target_Test = train_test_split(MCA_Features, MCA_Target, test_size=0.2)\n",
    "\n",
    "# Identify which features are categorical\n",
    "categoricalFeatures = [\" plan_player_favorite_server\"]\n",
    "\n",
    "# Identify which features are numerical (note we do not include the last seen time here)\n",
    "numericalFeatures = [\" mcmmo_power_level\", \" mcmmo_skill_ACROBATICS\", \" mcmmo_skill_ALCHEMY\", \" mcmmo_skill_ARCHERY\", \" mcmmo_skill_AXES\", \" mcmmo_skill_CROSSBOWS\", \" mcmmo_skill_EXCAVATION\", \" mcmmo_skill_FISHING\", \" mcmmo_skill_HERBALISM\", \" mcmmo_skill_MACES\", \" mcmmo_skill_MINING\", \" mcmmo_skill_REPAIR\", \" mcmmo_skill_SALVAGE\", \" mcmmo_skill_SMELTING\", \" mcmmo_skill_SWORDS\", \" mcmmo_skill_TAMING\", \" mcmmo_skill_TRIDENTS\", \" mcmmo_skill_UNARMED\", \" mcmmo_skill_WOODCUTTING\", \" lw_rev_total\", \" lw_rev_phase\", \" chemrank\", \" policerank\", \" donorrank\", \" goldrank\", \" current_month_votes\", \" plan_player_time_total_raw\", \" plan_player_time_month_raw\", \" plan_player_time_week_raw\", \" plan_player_time_day_raw\", \" plan_player_time_afk_raw\", \" plan_player_latest_session_length_raw\", \" plan_player_sessions_count\", \" leaderboard_position_chems_all\", \" leaderboard_position_chems_week\", \" leaderboard_position_police_all\", \" leaderboard_position_police_week\", \" balance\", \" plan_player_relativePlaytime_totalmonth\", \" plan_player_relativePlaytime_weekmonth\", \" plan_player_relativePlaytime_dayweek\"]\n",
    "\n",
    "# Create preprocessing transformers for encoding and scaling features\n",
    "preprocessor = ColumnTransformer(\n",
    "    transformers=[\n",
    "        (\"cat\", OneHotEncoder(handle_unknown=\"ignore\"), categoricalFeatures),\n",
    "        (\"num\", StandardScaler(), numericalFeatures)\n",
    "    ]\n",
    ")\n",
    "\n",
    "# Define pipeline\n",
    "MCA_Pipeline_LogReg = Pipeline([\n",
    "    (\"preprocessor\", preprocessor),\n",
    "    (\"model\", LogisticRegression(max_iter=1000))\n",
    "])\n",
    "\n",
    "# Fit pipeline\n",
    "MCA_Pipeline_LogReg.fit(MCA_Features_Train, MCA_Target_Train)\n",
    "\n",
    "# Predict\n",
    "MCA_Target_Pred = MCA_Pipeline_LogReg.predict(MCA_Features_Test)\n",
    "\n",
    "# Accuracy\n",
    "print(\"Accuracy:\", accuracy_score(MCA_Target_Pred, MCA_Target_Test))\n",
    "\n",
    "# Confusion Matrix\n",
    "print(\"Confusion Matrix:\\n\", confusion_matrix(MCA_Target_Test, MCA_Target_Pred))\n",
    "\n",
    "# Precision, Recall, F1\n",
    "print(\"Classification Report:\\n\", classification_report(MCA_Target_Test, MCA_Target_Pred))\n",
    "\n"
   ]
  },
  {
   "cell_type": "code",
   "execution_count": null,
   "id": "ebca9297",
   "metadata": {},
   "outputs": [],
   "source": [
    "'''\n",
    "PIPELINE SAVING\n",
    "\n",
    "This section saves the entire machine learning pipeline to a file for future use.\n",
    "'''\n",
    "\n",
    "# Save the entire pipeline\n",
    "joblib.dump(MCA_Pipeline_LogReg, \"../model-internals/MCA_Pipeline_LogReg.pkl\")"
   ]
  }
 ],
 "metadata": {
  "kernelspec": {
   "display_name": ".venv",
   "language": "python",
   "name": "python3"
  },
  "language_info": {
   "codemirror_mode": {
    "name": "ipython",
    "version": 3
   },
   "file_extension": ".py",
   "mimetype": "text/x-python",
   "name": "python",
   "nbconvert_exporter": "python",
   "pygments_lexer": "ipython3",
   "version": "3.13.5"
  }
 },
 "nbformat": 4,
 "nbformat_minor": 5
}
